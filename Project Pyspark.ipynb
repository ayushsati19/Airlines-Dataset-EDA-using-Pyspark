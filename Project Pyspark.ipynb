{
 "cells": [
  {
   "cell_type": "code",
   "execution_count": 0,
   "metadata": {
    "application/vnd.databricks.v1+cell": {
     "cellMetadata": {
      "byteLimit": 2048000,
      "rowLimit": 10000
     },
     "inputWidgets": {},
     "nuid": "77949998-4511-4810-8b6b-6471090cea42",
     "showTitle": false,
     "title": ""
    }
   },
   "outputs": [],
   "source": [
    "import pyspark\n",
    "from pyspark.sql import SparkSession\n",
    "from pyspark.sql.types import StructType, StructField, StringType, IntegerType\n",
    "from pyspark.sql.functions import *"
   ]
  },
  {
   "cell_type": "code",
   "execution_count": 0,
   "metadata": {
    "application/vnd.databricks.v1+cell": {
     "cellMetadata": {
      "byteLimit": 2048000,
      "rowLimit": 10000
     },
     "inputWidgets": {},
     "nuid": "75198868-4f57-4daa-ac88-3fc969c5a65d",
     "showTitle": false,
     "title": ""
    }
   },
   "outputs": [
    {
     "output_type": "display_data",
     "data": {
      "text/html": [
       "\n",
       "            <div>\n",
       "                <p><b>SparkSession - hive</b></p>\n",
       "                \n",
       "        <div>\n",
       "            <p><b>SparkContext</b></p>\n",
       "\n",
       "            <p><a href=\"/?o=1830816005002491#setting/sparkui/0721-060251-7b81ibsm/driver-2467361470579090863\">Spark UI</a></p>\n",
       "\n",
       "            <dl>\n",
       "              <dt>Version</dt>\n",
       "                <dd><code>v3.3.2</code></dd>\n",
       "              <dt>Master</dt>\n",
       "                <dd><code>local[8]</code></dd>\n",
       "              <dt>AppName</dt>\n",
       "                <dd><code>Databricks Shell</code></dd>\n",
       "            </dl>\n",
       "        </div>\n",
       "        \n",
       "            </div>\n",
       "        "
      ]
     },
     "metadata": {
      "application/vnd.databricks.v1+output": {
       "addedWidgets": {},
       "arguments": {},
       "data": "\n            <div>\n                <p><b>SparkSession - hive</b></p>\n                \n        <div>\n            <p><b>SparkContext</b></p>\n\n            <p><a href=\"/?o=1830816005002491#setting/sparkui/0721-060251-7b81ibsm/driver-2467361470579090863\">Spark UI</a></p>\n\n            <dl>\n              <dt>Version</dt>\n                <dd><code>v3.3.2</code></dd>\n              <dt>Master</dt>\n                <dd><code>local[8]</code></dd>\n              <dt>AppName</dt>\n                <dd><code>Databricks Shell</code></dd>\n            </dl>\n        </div>\n        \n            </div>\n        ",
       "datasetInfos": [],
       "metadata": {},
       "removedWidgets": [],
       "textData": null,
       "type": "htmlSandbox"
      }
     },
     "output_type": "display_data"
    }
   ],
   "source": [
    "spark"
   ]
  },
  {
   "cell_type": "code",
   "execution_count": 0,
   "metadata": {
    "application/vnd.databricks.v1+cell": {
     "cellMetadata": {
      "byteLimit": 2048000,
      "rowLimit": 10000
     },
     "inputWidgets": {},
     "nuid": "c6feaa86-5888-4b6a-ad8c-0c90beb8bf42",
     "showTitle": false,
     "title": ""
    }
   },
   "outputs": [],
   "source": [
    "#Creating a Dataframe\n",
    "df=spark.read.load('/FileStore/tables/Airline_Dataset_Updated___v2-1.csv',format='csv',sep=',',header='true',escape='\"', inferSchema='true')"
   ]
  },
  {
   "cell_type": "code",
   "execution_count": 0,
   "metadata": {
    "application/vnd.databricks.v1+cell": {
     "cellMetadata": {
      "byteLimit": 2048000,
      "rowLimit": 10000
     },
     "inputWidgets": {},
     "nuid": "2b341e84-dcdc-4410-b049-9211b636c7a4",
     "showTitle": false,
     "title": ""
    }
   },
   "outputs": [
    {
     "output_type": "stream",
     "name": "stdout",
     "output_type": "stream",
     "text": [
      "Out[48]: 98619"
     ]
    }
   ],
   "source": [
    "df.count()"
   ]
  },
  {
   "cell_type": "code",
   "execution_count": 0,
   "metadata": {
    "application/vnd.databricks.v1+cell": {
     "cellMetadata": {
      "byteLimit": 2048000,
      "rowLimit": 10000
     },
     "inputWidgets": {},
     "nuid": "9fc43443-d908-4d10-9ea1-e22c0d5aa531",
     "showTitle": false,
     "title": ""
    }
   },
   "outputs": [
    {
     "output_type": "stream",
     "name": "stdout",
     "output_type": "stream",
     "text": [
      "+------------+----------+---------+------+---+-----------+----------------+--------------------+-------------+-----------------+-------------+--------------+---------------+-------------------+-------------+\n|Passenger ID|First Name|Last Name|Gender|Age|Nationality|    Airport Name|Airport Country Code| Country Name|Airport Continent|   Continents|Departure Date|Arrival Airport|         Pilot Name|Flight Status|\n+------------+----------+---------+------+---+-----------+----------------+--------------------+-------------+-----------------+-------------+--------------+---------------+-------------------+-------------+\n|      ABVWIg|    Edithe|   Leggis|Female| 62|      Japan|Coldfoot Airport|                  US|United States|              NAM|North America|     6/28/2022|            CXF|Fransisco Hazeldine|      On Time|\n+------------+----------+---------+------+---+-----------+----------------+--------------------+-------------+-----------------+-------------+--------------+---------------+-------------------+-------------+\nonly showing top 1 row\n\n"
     ]
    }
   ],
   "source": [
    "df.show(1)"
   ]
  },
  {
   "cell_type": "code",
   "execution_count": 0,
   "metadata": {
    "application/vnd.databricks.v1+cell": {
     "cellMetadata": {
      "byteLimit": 2048000,
      "rowLimit": 10000
     },
     "inputWidgets": {},
     "nuid": "2bc1c240-c604-4ce1-b4b7-cf2835bf84a3",
     "showTitle": false,
     "title": ""
    }
   },
   "outputs": [
    {
     "output_type": "stream",
     "name": "stdout",
     "output_type": "stream",
     "text": [
      "root\n |-- Passenger ID: string (nullable = true)\n |-- First Name: string (nullable = true)\n |-- Last Name: string (nullable = true)\n |-- Gender: string (nullable = true)\n |-- Age: integer (nullable = true)\n |-- Nationality: string (nullable = true)\n |-- Airport Name: string (nullable = true)\n |-- Airport Country Code: string (nullable = true)\n |-- Country Name: string (nullable = true)\n |-- Airport Continent: string (nullable = true)\n |-- Continents: string (nullable = true)\n |-- Departure Date: string (nullable = true)\n |-- Arrival Airport: string (nullable = true)\n |-- Pilot Name: string (nullable = true)\n |-- Flight Status: string (nullable = true)\n\n"
     ]
    }
   ],
   "source": [
    "df.printSchema()"
   ]
  },
  {
   "cell_type": "markdown",
   "metadata": {
    "application/vnd.databricks.v1+cell": {
     "cellMetadata": {
      "byteLimit": 2048000,
      "rowLimit": 10000
     },
     "inputWidgets": {},
     "nuid": "449f5687-5f90-4b85-b666-6191656743c8",
     "showTitle": false,
     "title": ""
    }
   },
   "source": [
    "# **Data Cleaning**"
   ]
  },
  {
   "cell_type": "code",
   "execution_count": 0,
   "metadata": {
    "application/vnd.databricks.v1+cell": {
     "cellMetadata": {
      "byteLimit": 2048000,
      "rowLimit": 10000
     },
     "inputWidgets": {},
     "nuid": "cb413329-0a75-4f7c-a9bd-18b0c6ce3f55",
     "showTitle": false,
     "title": ""
    }
   },
   "outputs": [],
   "source": [
    "# dropping un necessory columns \n",
    "df=df.drop('First Name','Last Name','Passenger ID','Airport Country Code','Airport Continent')"
   ]
  },
  {
   "cell_type": "code",
   "execution_count": 0,
   "metadata": {
    "application/vnd.databricks.v1+cell": {
     "cellMetadata": {
      "byteLimit": 2048000,
      "rowLimit": 10000
     },
     "inputWidgets": {},
     "nuid": "c5ef9d75-3935-43b8-9022-30135a04c02d",
     "showTitle": false,
     "title": ""
    }
   },
   "outputs": [],
   "source": [
    "# Rename columns\n",
    "df = df.withColumnRenamed(\"Airport Name\", \"Airport_name\") \\\n",
    "               .withColumnRenamed(\"Country Name\", \"Country_Name\")\\\n",
    "                   .withColumnRenamed(\"Departure Date\",\"Departure_Date\")\\\n",
    "                       .withColumnRenamed(\"Flight Status\",\"Flight_Status\")\\\n",
    "                           .withColumnRenamed(\"Pilot Name\",\"Pilot_Name\")\n"
   ]
  },
  {
   "cell_type": "code",
   "execution_count": 0,
   "metadata": {
    "application/vnd.databricks.v1+cell": {
     "cellMetadata": {
      "byteLimit": 2048000,
      "rowLimit": 10000
     },
     "inputWidgets": {},
     "nuid": "b74d8748-472d-4601-b44b-27fe617ddb9f",
     "showTitle": false,
     "title": ""
    }
   },
   "outputs": [
    {
     "output_type": "stream",
     "name": "stdout",
     "output_type": "stream",
     "text": [
      "root\n |-- Gender: string (nullable = true)\n |-- Age: integer (nullable = true)\n |-- Nationality: string (nullable = true)\n |-- Airport_name: string (nullable = true)\n |-- Country_Name: string (nullable = true)\n |-- Continents: string (nullable = true)\n |-- Departure_Date: string (nullable = true)\n |-- Arrival Airport: string (nullable = true)\n |-- Pilot_Name: string (nullable = true)\n |-- Flight_Status: string (nullable = true)\n\n"
     ]
    }
   ],
   "source": [
    "df.printSchema()"
   ]
  },
  {
   "cell_type": "code",
   "execution_count": 0,
   "metadata": {
    "application/vnd.databricks.v1+cell": {
     "cellMetadata": {
      "byteLimit": 2048000,
      "rowLimit": 10000
     },
     "inputWidgets": {},
     "nuid": "521440f5-8767-48cf-b26c-f302e3d7a39a",
     "showTitle": false,
     "title": ""
    }
   },
   "outputs": [],
   "source": [
    "# Creating sql Table for anlaysis\n",
    "df.createOrReplaceTempView('airline')"
   ]
  },
  {
   "cell_type": "code",
   "execution_count": 0,
   "metadata": {
    "application/vnd.databricks.v1+cell": {
     "cellMetadata": {
      "byteLimit": 2048000,
      "implicitDf": true,
      "rowLimit": 10000
     },
     "inputWidgets": {},
     "nuid": "73b02e13-79d7-49a3-8e31-aa1387684662",
     "showTitle": false,
     "title": ""
    }
   },
   "outputs": [
    {
     "output_type": "display_data",
     "data": {
      "text/html": [
       "<style scoped>\n",
       "  .table-result-container {\n",
       "    max-height: 300px;\n",
       "    overflow: auto;\n",
       "  }\n",
       "  table, th, td {\n",
       "    border: 1px solid black;\n",
       "    border-collapse: collapse;\n",
       "  }\n",
       "  th, td {\n",
       "    padding: 5px;\n",
       "  }\n",
       "  th {\n",
       "    text-align: left;\n",
       "  }\n",
       "</style><div class='table-result-container'><table class='table-result'><thead style='background-color: white'><tr><th>Gender</th><th>Age</th><th>Nationality</th><th>Airport_name</th><th>Country_Name</th><th>Continents</th><th>Departure_Date</th><th>Arrival Airport</th><th>Pilot Name</th><th>Flight_Status</th></tr></thead><tbody><tr><td>Female</td><td>62</td><td>Japan</td><td>Coldfoot Airport</td><td>United States</td><td>North America</td><td>6/28/2022</td><td>CXF</td><td>Fransisco Hazeldine</td><td>On Time</td></tr><tr><td>Male</td><td>62</td><td>Nicaragua</td><td>Kugluktuk Airport</td><td>Canada</td><td>North America</td><td>12/26/2022</td><td>YCO</td><td>Marla Parsonage</td><td>On Time</td></tr><tr><td>Male</td><td>67</td><td>Russia</td><td>Grenoble-Isère Airport</td><td>France</td><td>Europe</td><td>1/18/2022</td><td>GNB</td><td>Rhonda Amber</td><td>On Time</td></tr><tr><td>Female</td><td>71</td><td>China</td><td>Ottawa / Gatineau Airport</td><td>Canada</td><td>North America</td><td>9/16/2022</td><td>YND</td><td>Kacie Commucci</td><td>Delayed</td></tr></tbody></table></div>"
      ]
     },
     "metadata": {
      "application/vnd.databricks.v1+output": {
       "addedWidgets": {},
       "aggData": [],
       "aggError": "",
       "aggOverflow": false,
       "aggSchema": [],
       "aggSeriesLimitReached": false,
       "aggType": "",
       "arguments": {},
       "columnCustomDisplayInfos": {},
       "data": [
        [
         "Female",
         62,
         "Japan",
         "Coldfoot Airport",
         "United States",
         "North America",
         "6/28/2022",
         "CXF",
         "Fransisco Hazeldine",
         "On Time"
        ],
        [
         "Male",
         62,
         "Nicaragua",
         "Kugluktuk Airport",
         "Canada",
         "North America",
         "12/26/2022",
         "YCO",
         "Marla Parsonage",
         "On Time"
        ],
        [
         "Male",
         67,
         "Russia",
         "Grenoble-Isère Airport",
         "France",
         "Europe",
         "1/18/2022",
         "GNB",
         "Rhonda Amber",
         "On Time"
        ],
        [
         "Female",
         71,
         "China",
         "Ottawa / Gatineau Airport",
         "Canada",
         "North America",
         "9/16/2022",
         "YND",
         "Kacie Commucci",
         "Delayed"
        ]
       ],
       "datasetInfos": [],
       "dbfsResultPath": null,
       "isJsonSchema": true,
       "metadata": {},
       "overflow": false,
       "plotOptions": {
        "customPlotOptions": {},
        "displayType": "table",
        "pivotAggregation": null,
        "pivotColumns": null,
        "xColumns": null,
        "yColumns": null
       },
       "removedWidgets": [],
       "schema": [
        {
         "metadata": "{}",
         "name": "Gender",
         "type": "\"string\""
        },
        {
         "metadata": "{}",
         "name": "Age",
         "type": "\"integer\""
        },
        {
         "metadata": "{}",
         "name": "Nationality",
         "type": "\"string\""
        },
        {
         "metadata": "{}",
         "name": "Airport_name",
         "type": "\"string\""
        },
        {
         "metadata": "{}",
         "name": "Country_Name",
         "type": "\"string\""
        },
        {
         "metadata": "{}",
         "name": "Continents",
         "type": "\"string\""
        },
        {
         "metadata": "{}",
         "name": "Departure_Date",
         "type": "\"string\""
        },
        {
         "metadata": "{}",
         "name": "Arrival Airport",
         "type": "\"string\""
        },
        {
         "metadata": "{}",
         "name": "Pilot Name",
         "type": "\"string\""
        },
        {
         "metadata": "{}",
         "name": "Flight_Status",
         "type": "\"string\""
        }
       ],
       "type": "table"
      }
     },
     "output_type": "display_data"
    }
   ],
   "source": [
    "%sql select * from airline\n",
    "limit 4;"
   ]
  },
  {
   "cell_type": "markdown",
   "metadata": {
    "application/vnd.databricks.v1+cell": {
     "cellMetadata": {},
     "inputWidgets": {},
     "nuid": "6439cf84-9bda-4d8f-95c6-85b56901b0fc",
     "showTitle": false,
     "title": ""
    }
   },
   "source": [
    "# **People gender wise**"
   ]
  },
  {
   "cell_type": "code",
   "execution_count": 0,
   "metadata": {
    "application/vnd.databricks.v1+cell": {
     "cellMetadata": {
      "byteLimit": 2048000,
      "implicitDf": true,
      "rowLimit": 10000
     },
     "inputWidgets": {},
     "nuid": "5e7e18c0-64ae-471b-8970-e5899dfef7ef",
     "showTitle": false,
     "title": ""
    }
   },
   "outputs": [
    {
     "output_type": "display_data",
     "data": {
      "text/html": [
       "<style scoped>\n",
       "  .table-result-container {\n",
       "    max-height: 300px;\n",
       "    overflow: auto;\n",
       "  }\n",
       "  table, th, td {\n",
       "    border: 1px solid black;\n",
       "    border-collapse: collapse;\n",
       "  }\n",
       "  th, td {\n",
       "    padding: 5px;\n",
       "  }\n",
       "  th {\n",
       "    text-align: left;\n",
       "  }\n",
       "</style><div class='table-result-container'><table class='table-result'><thead style='background-color: white'><tr><th>Gender</th><th>Total</th></tr></thead><tbody><tr><td>Female</td><td>49021</td></tr><tr><td>Male</td><td>49598</td></tr></tbody></table></div>"
      ]
     },
     "metadata": {
      "application/vnd.databricks.v1+output": {
       "addedWidgets": {},
       "aggData": [],
       "aggError": "",
       "aggOverflow": false,
       "aggSchema": [],
       "aggSeriesLimitReached": false,
       "aggType": "",
       "arguments": {},
       "columnCustomDisplayInfos": {},
       "data": [
        [
         "Female",
         49021
        ],
        [
         "Male",
         49598
        ]
       ],
       "datasetInfos": [],
       "dbfsResultPath": null,
       "isJsonSchema": true,
       "metadata": {},
       "overflow": false,
       "plotOptions": {
        "customPlotOptions": {},
        "displayType": "table",
        "pivotAggregation": null,
        "pivotColumns": null,
        "xColumns": null,
        "yColumns": null
       },
       "removedWidgets": [],
       "schema": [
        {
         "metadata": "{}",
         "name": "Gender",
         "type": "\"string\""
        },
        {
         "metadata": "{}",
         "name": "Total",
         "type": "\"long\""
        }
       ],
       "type": "table"
      }
     },
     "output_type": "display_data"
    }
   ],
   "source": [
    "%sql\n",
    "select Gender, count(*) as Total\n",
    "from airline\n",
    "group by Gender;"
   ]
  },
  {
   "cell_type": "markdown",
   "metadata": {
    "application/vnd.databricks.v1+cell": {
     "cellMetadata": {},
     "inputWidgets": {},
     "nuid": "5a519e09-524c-43d7-8174-18e1cb78d0fa",
     "showTitle": false,
     "title": ""
    }
   },
   "source": [
    "# **Lowest top 5 nationalities**"
   ]
  },
  {
   "cell_type": "code",
   "execution_count": 0,
   "metadata": {
    "application/vnd.databricks.v1+cell": {
     "cellMetadata": {
      "byteLimit": 2048000,
      "implicitDf": true,
      "rowLimit": 10000
     },
     "inputWidgets": {},
     "nuid": "42e21185-fcc9-4331-8991-449b3fe2656c",
     "showTitle": false,
     "title": ""
    }
   },
   "outputs": [
    {
     "output_type": "display_data",
     "data": {
      "text/html": [
       "<style scoped>\n",
       "  .table-result-container {\n",
       "    max-height: 300px;\n",
       "    overflow: auto;\n",
       "  }\n",
       "  table, th, td {\n",
       "    border: 1px solid black;\n",
       "    border-collapse: collapse;\n",
       "  }\n",
       "  th, td {\n",
       "    padding: 5px;\n",
       "  }\n",
       "  th {\n",
       "    text-align: left;\n",
       "  }\n",
       "</style><div class='table-result-container'><table class='table-result'><thead style='background-color: white'><tr><th>Nationality</th><th>people</th></tr></thead><tbody><tr><td>Jersey</td><td>1</td></tr><tr><td>Norfolk Island</td><td>1</td></tr><tr><td>Sint Maarten</td><td>1</td></tr><tr><td>French Southern Territories</td><td>2</td></tr><tr><td>Svalbard and Jan Mayen</td><td>2</td></tr></tbody></table></div>"
      ]
     },
     "metadata": {
      "application/vnd.databricks.v1+output": {
       "addedWidgets": {},
       "aggData": [],
       "aggError": "",
       "aggOverflow": false,
       "aggSchema": [],
       "aggSeriesLimitReached": false,
       "aggType": "",
       "arguments": {},
       "columnCustomDisplayInfos": {},
       "data": [
        [
         "Jersey",
         1
        ],
        [
         "Norfolk Island",
         1
        ],
        [
         "Sint Maarten",
         1
        ],
        [
         "French Southern Territories",
         2
        ],
        [
         "Svalbard and Jan Mayen",
         2
        ]
       ],
       "datasetInfos": [],
       "dbfsResultPath": null,
       "isJsonSchema": true,
       "metadata": {},
       "overflow": false,
       "plotOptions": {
        "customPlotOptions": {},
        "displayType": "table",
        "pivotAggregation": null,
        "pivotColumns": null,
        "xColumns": null,
        "yColumns": null
       },
       "removedWidgets": [],
       "schema": [
        {
         "metadata": "{}",
         "name": "Nationality",
         "type": "\"string\""
        },
        {
         "metadata": "{}",
         "name": "people",
         "type": "\"long\""
        }
       ],
       "type": "table"
      }
     },
     "output_type": "display_data"
    }
   ],
   "source": [
    "%sql\n",
    "select Nationality,count(*) as people\n",
    "from airline\n",
    "group by Nationality\n",
    "order by people limit 5;"
   ]
  },
  {
   "cell_type": "markdown",
   "metadata": {
    "application/vnd.databricks.v1+cell": {
     "cellMetadata": {},
     "inputWidgets": {},
     "nuid": "4dfcaf4a-212c-466f-8b2d-07415542bdfe",
     "showTitle": false,
     "title": ""
    }
   },
   "source": [
    "# **Top 5 nationalities**"
   ]
  },
  {
   "cell_type": "code",
   "execution_count": 0,
   "metadata": {
    "application/vnd.databricks.v1+cell": {
     "cellMetadata": {
      "byteLimit": 2048000,
      "implicitDf": true,
      "rowLimit": 10000
     },
     "inputWidgets": {},
     "nuid": "3b1eca64-a728-49f1-8dd5-503feef5c78e",
     "showTitle": false,
     "title": ""
    }
   },
   "outputs": [
    {
     "output_type": "display_data",
     "data": {
      "text/html": [
       "<style scoped>\n",
       "  .table-result-container {\n",
       "    max-height: 300px;\n",
       "    overflow: auto;\n",
       "  }\n",
       "  table, th, td {\n",
       "    border: 1px solid black;\n",
       "    border-collapse: collapse;\n",
       "  }\n",
       "  th, td {\n",
       "    padding: 5px;\n",
       "  }\n",
       "  th {\n",
       "    text-align: left;\n",
       "  }\n",
       "</style><div class='table-result-container'><table class='table-result'><thead style='background-color: white'><tr><th>Nationality</th><th>total</th></tr></thead><tbody><tr><td>China</td><td>18317</td></tr><tr><td>Indonesia</td><td>10559</td></tr><tr><td>Russia</td><td>5693</td></tr><tr><td>Philippines</td><td>5239</td></tr><tr><td>Brazil</td><td>3791</td></tr></tbody></table></div>"
      ]
     },
     "metadata": {
      "application/vnd.databricks.v1+output": {
       "addedWidgets": {},
       "aggData": [],
       "aggError": "",
       "aggOverflow": false,
       "aggSchema": [],
       "aggSeriesLimitReached": false,
       "aggType": "",
       "arguments": {},
       "columnCustomDisplayInfos": {},
       "data": [
        [
         "China",
         18317
        ],
        [
         "Indonesia",
         10559
        ],
        [
         "Russia",
         5693
        ],
        [
         "Philippines",
         5239
        ],
        [
         "Brazil",
         3791
        ]
       ],
       "datasetInfos": [],
       "dbfsResultPath": null,
       "isJsonSchema": true,
       "metadata": {},
       "overflow": false,
       "plotOptions": {
        "customPlotOptions": {},
        "displayType": "table",
        "pivotAggregation": null,
        "pivotColumns": null,
        "xColumns": null,
        "yColumns": null
       },
       "removedWidgets": [],
       "schema": [
        {
         "metadata": "{}",
         "name": "Nationality",
         "type": "\"string\""
        },
        {
         "metadata": "{}",
         "name": "total",
         "type": "\"long\""
        }
       ],
       "type": "table"
      }
     },
     "output_type": "display_data"
    }
   ],
   "source": [
    "%sql\n",
    "select Nationality, count(*) as total\n",
    "from airline\n",
    "group by Nationality\n",
    "order by total desc limit 5;"
   ]
  },
  {
   "cell_type": "markdown",
   "metadata": {
    "application/vnd.databricks.v1+cell": {
     "cellMetadata": {},
     "inputWidgets": {},
     "nuid": "d440dd66-7321-4bf0-9dda-337e914a8a90",
     "showTitle": false,
     "title": ""
    }
   },
   "source": [
    "# Total Airports"
   ]
  },
  {
   "cell_type": "code",
   "execution_count": 0,
   "metadata": {
    "application/vnd.databricks.v1+cell": {
     "cellMetadata": {
      "byteLimit": 2048000,
      "implicitDf": true,
      "rowLimit": 10000
     },
     "inputWidgets": {},
     "nuid": "46ee1da5-3c1c-4539-88dc-9fe096263f5d",
     "showTitle": false,
     "title": ""
    }
   },
   "outputs": [
    {
     "output_type": "display_data",
     "data": {
      "text/html": [
       "<style scoped>\n",
       "  .table-result-container {\n",
       "    max-height: 300px;\n",
       "    overflow: auto;\n",
       "  }\n",
       "  table, th, td {\n",
       "    border: 1px solid black;\n",
       "    border-collapse: collapse;\n",
       "  }\n",
       "  th, td {\n",
       "    padding: 5px;\n",
       "  }\n",
       "  th {\n",
       "    text-align: left;\n",
       "  }\n",
       "</style><div class='table-result-container'><table class='table-result'><thead style='background-color: white'><tr><th>count(DISTINCT Airport_Name)</th></tr></thead><tbody><tr><td>9062</td></tr></tbody></table></div>"
      ]
     },
     "metadata": {
      "application/vnd.databricks.v1+output": {
       "addedWidgets": {},
       "aggData": [],
       "aggError": "",
       "aggOverflow": false,
       "aggSchema": [],
       "aggSeriesLimitReached": false,
       "aggType": "",
       "arguments": {},
       "columnCustomDisplayInfos": {},
       "data": [
        [
         9062
        ]
       ],
       "datasetInfos": [],
       "dbfsResultPath": null,
       "isJsonSchema": true,
       "metadata": {},
       "overflow": false,
       "plotOptions": {
        "customPlotOptions": {},
        "displayType": "table",
        "pivotAggregation": null,
        "pivotColumns": null,
        "xColumns": null,
        "yColumns": null
       },
       "removedWidgets": [],
       "schema": [
        {
         "metadata": "{\"__autoGeneratedAlias\":\"true\"}",
         "name": "count(DISTINCT Airport_Name)",
         "type": "\"long\""
        }
       ],
       "type": "table"
      }
     },
     "output_type": "display_data"
    }
   ],
   "source": [
    "%sql\n",
    "select count(distinct Airport_Name)\n",
    "from airline;"
   ]
  },
  {
   "cell_type": "markdown",
   "metadata": {
    "application/vnd.databricks.v1+cell": {
     "cellMetadata": {},
     "inputWidgets": {},
     "nuid": "af24fc89-3bba-4c39-9e90-eac60b463454",
     "showTitle": false,
     "title": ""
    }
   },
   "source": [
    "# Top 5 Airports with highest number of passengers"
   ]
  },
  {
   "cell_type": "code",
   "execution_count": 0,
   "metadata": {
    "application/vnd.databricks.v1+cell": {
     "cellMetadata": {
      "byteLimit": 2048000,
      "implicitDf": true,
      "rowLimit": 10000
     },
     "inputWidgets": {},
     "nuid": "25f05dea-1647-4177-944e-051522184e70",
     "showTitle": false,
     "title": ""
    }
   },
   "outputs": [
    {
     "output_type": "display_data",
     "data": {
      "text/html": [
       "<style scoped>\n",
       "  .table-result-container {\n",
       "    max-height: 300px;\n",
       "    overflow: auto;\n",
       "  }\n",
       "  table, th, td {\n",
       "    border: 1px solid black;\n",
       "    border-collapse: collapse;\n",
       "  }\n",
       "  th, td {\n",
       "    padding: 5px;\n",
       "  }\n",
       "  th {\n",
       "    text-align: left;\n",
       "  }\n",
       "</style><div class='table-result-container'><table class='table-result'><thead style='background-color: white'><tr><th>Airport_name</th><th>total</th></tr></thead><tbody><tr><td>San Pedro Airport</td><td>43</td></tr><tr><td>Santa Maria Airport</td><td>38</td></tr><tr><td>Böblingen Flugfeld</td><td>36</td></tr><tr><td>Santa Ana Airport</td><td>35</td></tr><tr><td>San Fernando Airport</td><td>31</td></tr></tbody></table></div>"
      ]
     },
     "metadata": {
      "application/vnd.databricks.v1+output": {
       "addedWidgets": {},
       "aggData": [],
       "aggError": "",
       "aggOverflow": false,
       "aggSchema": [],
       "aggSeriesLimitReached": false,
       "aggType": "",
       "arguments": {},
       "columnCustomDisplayInfos": {},
       "data": [
        [
         "San Pedro Airport",
         43
        ],
        [
         "Santa Maria Airport",
         38
        ],
        [
         "Böblingen Flugfeld",
         36
        ],
        [
         "Santa Ana Airport",
         35
        ],
        [
         "San Fernando Airport",
         31
        ]
       ],
       "datasetInfos": [],
       "dbfsResultPath": null,
       "isJsonSchema": true,
       "metadata": {},
       "overflow": false,
       "plotOptions": {
        "customPlotOptions": {},
        "displayType": "table",
        "pivotAggregation": null,
        "pivotColumns": null,
        "xColumns": null,
        "yColumns": null
       },
       "removedWidgets": [],
       "schema": [
        {
         "metadata": "{}",
         "name": "Airport_name",
         "type": "\"string\""
        },
        {
         "metadata": "{}",
         "name": "total",
         "type": "\"long\""
        }
       ],
       "type": "table"
      }
     },
     "output_type": "display_data"
    }
   ],
   "source": [
    "%sql\n",
    "select Airport_name, count(*) as total\n",
    "from airline\n",
    "group by Airport_name\n",
    "order by total desc\n",
    "limit 5;"
   ]
  },
  {
   "cell_type": "markdown",
   "metadata": {
    "application/vnd.databricks.v1+cell": {
     "cellMetadata": {},
     "inputWidgets": {},
     "nuid": "f6c7c1e1-6b5f-4e3a-811d-e50da12d8b7e",
     "showTitle": false,
     "title": ""
    }
   },
   "source": [
    "# Top 5 airports with lowest no. of passengers"
   ]
  },
  {
   "cell_type": "code",
   "execution_count": 0,
   "metadata": {
    "application/vnd.databricks.v1+cell": {
     "cellMetadata": {
      "byteLimit": 2048000,
      "implicitDf": true,
      "rowLimit": 10000
     },
     "inputWidgets": {},
     "nuid": "bd888f0c-0812-4ced-872d-7188bf0cd000",
     "showTitle": false,
     "title": ""
    }
   },
   "outputs": [
    {
     "output_type": "display_data",
     "data": {
      "text/html": [
       "<style scoped>\n",
       "  .table-result-container {\n",
       "    max-height: 300px;\n",
       "    overflow: auto;\n",
       "  }\n",
       "  table, th, td {\n",
       "    border: 1px solid black;\n",
       "    border-collapse: collapse;\n",
       "  }\n",
       "  th, td {\n",
       "    padding: 5px;\n",
       "  }\n",
       "  th {\n",
       "    text-align: left;\n",
       "  }\n",
       "</style><div class='table-result-container'><table class='table-result'><thead style='background-color: white'><tr><th>Airport_Name</th><th>total</th></tr></thead><tbody><tr><td>Falcon State Airport</td><td>1</td></tr><tr><td>Hiroshima Airport</td><td>1</td></tr><tr><td>Juba International Airport</td><td>2</td></tr><tr><td>Balıkesir Merkez Airport</td><td>2</td></tr><tr><td>Mount Gambier Airport</td><td>2</td></tr></tbody></table></div>"
      ]
     },
     "metadata": {
      "application/vnd.databricks.v1+output": {
       "addedWidgets": {},
       "aggData": [],
       "aggError": "",
       "aggOverflow": false,
       "aggSchema": [],
       "aggSeriesLimitReached": false,
       "aggType": "",
       "arguments": {},
       "columnCustomDisplayInfos": {},
       "data": [
        [
         "Falcon State Airport",
         1
        ],
        [
         "Hiroshima Airport",
         1
        ],
        [
         "Juba International Airport",
         2
        ],
        [
         "Balıkesir Merkez Airport",
         2
        ],
        [
         "Mount Gambier Airport",
         2
        ]
       ],
       "datasetInfos": [],
       "dbfsResultPath": null,
       "isJsonSchema": true,
       "metadata": {},
       "overflow": false,
       "plotOptions": {
        "customPlotOptions": {},
        "displayType": "table",
        "pivotAggregation": null,
        "pivotColumns": null,
        "xColumns": null,
        "yColumns": null
       },
       "removedWidgets": [],
       "schema": [
        {
         "metadata": "{}",
         "name": "Airport_Name",
         "type": "\"string\""
        },
        {
         "metadata": "{}",
         "name": "total",
         "type": "\"long\""
        }
       ],
       "type": "table"
      }
     },
     "output_type": "display_data"
    }
   ],
   "source": [
    "%sql\n",
    "select Airport_Name,count(*) as total\n",
    "from airline\n",
    "group by Airport_Name\n",
    "order by total limit 5;"
   ]
  },
  {
   "cell_type": "markdown",
   "metadata": {
    "application/vnd.databricks.v1+cell": {
     "cellMetadata": {},
     "inputWidgets": {},
     "nuid": "9a50d480-4ff8-40e4-b926-cde238afe8de",
     "showTitle": false,
     "title": ""
    }
   },
   "source": [
    "# Flight Status"
   ]
  },
  {
   "cell_type": "code",
   "execution_count": 0,
   "metadata": {
    "application/vnd.databricks.v1+cell": {
     "cellMetadata": {
      "byteLimit": 2048000,
      "implicitDf": true,
      "rowLimit": 10000
     },
     "inputWidgets": {},
     "nuid": "3718f196-2d57-49a6-b855-a9b4bbb81441",
     "showTitle": false,
     "title": ""
    }
   },
   "outputs": [
    {
     "output_type": "display_data",
     "data": {
      "text/html": [
       "<style scoped>\n",
       "  .table-result-container {\n",
       "    max-height: 300px;\n",
       "    overflow: auto;\n",
       "  }\n",
       "  table, th, td {\n",
       "    border: 1px solid black;\n",
       "    border-collapse: collapse;\n",
       "  }\n",
       "  th, td {\n",
       "    padding: 5px;\n",
       "  }\n",
       "  th {\n",
       "    text-align: left;\n",
       "  }\n",
       "</style><div class='table-result-container'><table class='table-result'><thead style='background-color: white'><tr><th>Gender</th><th>Age</th><th>Nationality</th><th>Airport_name</th><th>Country_Name</th><th>Continents</th><th>Departure_Date</th><th>Arrival Airport</th><th>Pilot Name</th><th>Flight_Status</th></tr></thead><tbody><tr><td>Female</td><td>62</td><td>Japan</td><td>Coldfoot Airport</td><td>United States</td><td>North America</td><td>6/28/2022</td><td>CXF</td><td>Fransisco Hazeldine</td><td>On Time</td></tr><tr><td>Male</td><td>62</td><td>Nicaragua</td><td>Kugluktuk Airport</td><td>Canada</td><td>North America</td><td>12/26/2022</td><td>YCO</td><td>Marla Parsonage</td><td>On Time</td></tr><tr><td>Male</td><td>67</td><td>Russia</td><td>Grenoble-Isère Airport</td><td>France</td><td>Europe</td><td>1/18/2022</td><td>GNB</td><td>Rhonda Amber</td><td>On Time</td></tr><tr><td>Female</td><td>71</td><td>China</td><td>Ottawa / Gatineau Airport</td><td>Canada</td><td>North America</td><td>9/16/2022</td><td>YND</td><td>Kacie Commucci</td><td>Delayed</td></tr><tr><td>Male</td><td>21</td><td>China</td><td>Gillespie Field</td><td>United States</td><td>North America</td><td>2/25/2022</td><td>SEE</td><td>Ebonee Tree</td><td>On Time</td></tr></tbody></table></div>"
      ]
     },
     "metadata": {
      "application/vnd.databricks.v1+output": {
       "addedWidgets": {},
       "aggData": [],
       "aggError": "",
       "aggOverflow": false,
       "aggSchema": [],
       "aggSeriesLimitReached": false,
       "aggType": "",
       "arguments": {},
       "columnCustomDisplayInfos": {},
       "data": [
        [
         "Female",
         62,
         "Japan",
         "Coldfoot Airport",
         "United States",
         "North America",
         "6/28/2022",
         "CXF",
         "Fransisco Hazeldine",
         "On Time"
        ],
        [
         "Male",
         62,
         "Nicaragua",
         "Kugluktuk Airport",
         "Canada",
         "North America",
         "12/26/2022",
         "YCO",
         "Marla Parsonage",
         "On Time"
        ],
        [
         "Male",
         67,
         "Russia",
         "Grenoble-Isère Airport",
         "France",
         "Europe",
         "1/18/2022",
         "GNB",
         "Rhonda Amber",
         "On Time"
        ],
        [
         "Female",
         71,
         "China",
         "Ottawa / Gatineau Airport",
         "Canada",
         "North America",
         "9/16/2022",
         "YND",
         "Kacie Commucci",
         "Delayed"
        ],
        [
         "Male",
         21,
         "China",
         "Gillespie Field",
         "United States",
         "North America",
         "2/25/2022",
         "SEE",
         "Ebonee Tree",
         "On Time"
        ]
       ],
       "datasetInfos": [],
       "dbfsResultPath": null,
       "isJsonSchema": true,
       "metadata": {},
       "overflow": false,
       "plotOptions": {
        "customPlotOptions": {},
        "displayType": "table",
        "pivotAggregation": null,
        "pivotColumns": null,
        "xColumns": null,
        "yColumns": null
       },
       "removedWidgets": [],
       "schema": [
        {
         "metadata": "{}",
         "name": "Gender",
         "type": "\"string\""
        },
        {
         "metadata": "{}",
         "name": "Age",
         "type": "\"integer\""
        },
        {
         "metadata": "{}",
         "name": "Nationality",
         "type": "\"string\""
        },
        {
         "metadata": "{}",
         "name": "Airport_name",
         "type": "\"string\""
        },
        {
         "metadata": "{}",
         "name": "Country_Name",
         "type": "\"string\""
        },
        {
         "metadata": "{}",
         "name": "Continents",
         "type": "\"string\""
        },
        {
         "metadata": "{}",
         "name": "Departure_Date",
         "type": "\"string\""
        },
        {
         "metadata": "{}",
         "name": "Arrival Airport",
         "type": "\"string\""
        },
        {
         "metadata": "{}",
         "name": "Pilot Name",
         "type": "\"string\""
        },
        {
         "metadata": "{}",
         "name": "Flight_Status",
         "type": "\"string\""
        }
       ],
       "type": "table"
      }
     },
     "output_type": "display_data"
    }
   ],
   "source": [
    "%sql\n",
    "select * from airline\n",
    "limit 5;"
   ]
  },
  {
   "cell_type": "code",
   "execution_count": 0,
   "metadata": {
    "application/vnd.databricks.v1+cell": {
     "cellMetadata": {
      "byteLimit": 2048000,
      "implicitDf": true,
      "rowLimit": 10000
     },
     "inputWidgets": {},
     "nuid": "4fecc093-1d3b-4bba-bbef-704394653701",
     "showTitle": false,
     "title": ""
    }
   },
   "outputs": [
    {
     "output_type": "display_data",
     "data": {
      "text/html": [
       "<style scoped>\n",
       "  .table-result-container {\n",
       "    max-height: 300px;\n",
       "    overflow: auto;\n",
       "  }\n",
       "  table, th, td {\n",
       "    border: 1px solid black;\n",
       "    border-collapse: collapse;\n",
       "  }\n",
       "  th, td {\n",
       "    padding: 5px;\n",
       "  }\n",
       "  th {\n",
       "    text-align: left;\n",
       "  }\n",
       "</style><div class='table-result-container'><table class='table-result'><thead style='background-color: white'><tr><th>Flight_Status</th><th>total</th></tr></thead><tbody><tr><td>Cancelled</td><td>32942</td></tr><tr><td>On Time</td><td>32846</td></tr><tr><td>Delayed</td><td>32831</td></tr></tbody></table></div>"
      ]
     },
     "metadata": {
      "application/vnd.databricks.v1+output": {
       "addedWidgets": {},
       "aggData": [],
       "aggError": "",
       "aggOverflow": false,
       "aggSchema": [],
       "aggSeriesLimitReached": false,
       "aggType": "",
       "arguments": {},
       "columnCustomDisplayInfos": {},
       "data": [
        [
         "Cancelled",
         32942
        ],
        [
         "On Time",
         32846
        ],
        [
         "Delayed",
         32831
        ]
       ],
       "datasetInfos": [],
       "dbfsResultPath": null,
       "isJsonSchema": true,
       "metadata": {},
       "overflow": false,
       "plotOptions": {
        "customPlotOptions": {},
        "displayType": "table",
        "pivotAggregation": null,
        "pivotColumns": null,
        "xColumns": null,
        "yColumns": null
       },
       "removedWidgets": [],
       "schema": [
        {
         "metadata": "{}",
         "name": "Flight_Status",
         "type": "\"string\""
        },
        {
         "metadata": "{}",
         "name": "total",
         "type": "\"long\""
        }
       ],
       "type": "table"
      }
     },
     "output_type": "display_data"
    }
   ],
   "source": [
    "%sql\n",
    "select Flight_Status, count(*) as total\n",
    "from airline\n",
    "group by Flight_Status\n",
    "order by total desc;"
   ]
  },
  {
   "cell_type": "markdown",
   "metadata": {
    "application/vnd.databricks.v1+cell": {
     "cellMetadata": {},
     "inputWidgets": {},
     "nuid": "fa3180fb-de35-449b-bf09-4722de457388",
     "showTitle": false,
     "title": ""
    }
   },
   "source": [
    "# Flight Status continent wise"
   ]
  },
  {
   "cell_type": "code",
   "execution_count": 0,
   "metadata": {
    "application/vnd.databricks.v1+cell": {
     "cellMetadata": {
      "byteLimit": 2048000,
      "rowLimit": 10000
     },
     "inputWidgets": {},
     "nuid": "69287b93-b1e2-4865-aeb7-2298d6feb4b5",
     "showTitle": false,
     "title": ""
    }
   },
   "outputs": [],
   "source": [
    "# Total On time Flights"
   ]
  },
  {
   "cell_type": "code",
   "execution_count": 0,
   "metadata": {
    "application/vnd.databricks.v1+cell": {
     "cellMetadata": {
      "byteLimit": 2048000,
      "implicitDf": true,
      "rowLimit": 10000
     },
     "inputWidgets": {},
     "nuid": "00b01602-50f3-48ce-b0c0-a5ce949c5cad",
     "showTitle": false,
     "title": ""
    }
   },
   "outputs": [
    {
     "output_type": "display_data",
     "data": {
      "text/html": [
       "<style scoped>\n",
       "  .table-result-container {\n",
       "    max-height: 300px;\n",
       "    overflow: auto;\n",
       "  }\n",
       "  table, th, td {\n",
       "    border: 1px solid black;\n",
       "    border-collapse: collapse;\n",
       "  }\n",
       "  th, td {\n",
       "    padding: 5px;\n",
       "  }\n",
       "  th {\n",
       "    text-align: left;\n",
       "  }\n",
       "</style><div class='table-result-container'><table class='table-result'><thead style='background-color: white'><tr><th>Continents</th><th>total</th><th>delayed</th><th>on_time</th><th>canceled</th></tr></thead><tbody><tr><td>North America</td><td>32033</td><td>10696</td><td>10644</td><td>10693</td></tr><tr><td>Asia</td><td>18637</td><td>6160</td><td>6242</td><td>6235</td></tr><tr><td>Oceania</td><td>13866</td><td>4634</td><td>4613</td><td>4619</td></tr><tr><td>Europe</td><td>12335</td><td>4178</td><td>4062</td><td>4095</td></tr><tr><td>Africa</td><td>11030</td><td>3654</td><td>3719</td><td>3657</td></tr><tr><td>South America</td><td>10718</td><td>3509</td><td>3566</td><td>3643</td></tr></tbody></table></div>"
      ]
     },
     "metadata": {
      "application/vnd.databricks.v1+output": {
       "addedWidgets": {},
       "aggData": [],
       "aggError": "",
       "aggOverflow": false,
       "aggSchema": [],
       "aggSeriesLimitReached": false,
       "aggType": "",
       "arguments": {},
       "columnCustomDisplayInfos": {},
       "data": [
        [
         "North America",
         32033,
         10696,
         10644,
         10693
        ],
        [
         "Asia",
         18637,
         6160,
         6242,
         6235
        ],
        [
         "Oceania",
         13866,
         4634,
         4613,
         4619
        ],
        [
         "Europe",
         12335,
         4178,
         4062,
         4095
        ],
        [
         "Africa",
         11030,
         3654,
         3719,
         3657
        ],
        [
         "South America",
         10718,
         3509,
         3566,
         3643
        ]
       ],
       "datasetInfos": [],
       "dbfsResultPath": null,
       "isJsonSchema": true,
       "metadata": {},
       "overflow": false,
       "plotOptions": {
        "customPlotOptions": {},
        "displayType": "table",
        "pivotAggregation": null,
        "pivotColumns": null,
        "xColumns": null,
        "yColumns": null
       },
       "removedWidgets": [],
       "schema": [
        {
         "metadata": "{}",
         "name": "Continents",
         "type": "\"string\""
        },
        {
         "metadata": "{}",
         "name": "total",
         "type": "\"long\""
        },
        {
         "metadata": "{}",
         "name": "delayed",
         "type": "\"long\""
        },
        {
         "metadata": "{}",
         "name": "on_time",
         "type": "\"long\""
        },
        {
         "metadata": "{}",
         "name": "canceled",
         "type": "\"long\""
        }
       ],
       "type": "table"
      }
     },
     "output_type": "display_data"
    }
   ],
   "source": [
    "%sql\n",
    "SELECT \n",
    "    Continents,\n",
    "    COUNT(*) AS total,\n",
    "    COUNT(CASE WHEN Flight_Status = 'Delayed' THEN 1 END) AS delayed,\n",
    "    COUNT(CASE WHEN Flight_Status = 'On Time' THEN 1 END) AS on_time,\n",
    "    COUNT(CASE WHEN Flight_Status = 'Cancelled' THEN 1 END) AS canceled\n",
    "FROM \n",
    "    airline\n",
    "GROUP BY \n",
    "    Continents\n",
    "ORDER BY \n",
    "    total DESC;\n"
   ]
  }
 ],
 "metadata": {
  "application/vnd.databricks.v1+notebook": {
   "dashboards": [],
   "environmentMetadata": null,
   "language": "python",
   "notebookMetadata": {
    "mostRecentlyExecutedCommandWithImplicitDF": {
     "commandId": 2632559895960106,
     "dataframes": [
      "_sqldf"
     ]
    },
    "pythonIndentUnit": 4
   },
   "notebookName": "Project Pyspark",
   "widgets": {}
  }
 },
 "nbformat": 4,
 "nbformat_minor": 0
}
